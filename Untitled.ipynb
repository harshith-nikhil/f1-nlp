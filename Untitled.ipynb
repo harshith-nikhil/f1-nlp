{
 "cells": [
  {
   "cell_type": "code",
   "execution_count": 1,
   "id": "f2a3bb8c-4256-493c-a248-d48c8247a2c5",
   "metadata": {},
   "outputs": [
    {
     "name": "stderr",
     "output_type": "stream",
     "text": [
      "/Users/harshith.nikhil/Desktop/f1-nlp/f1_env/lib/python3.9/site-packages/urllib3/__init__.py:35: NotOpenSSLWarning: urllib3 v2 only supports OpenSSL 1.1.1+, currently the 'ssl' module is compiled with 'LibreSSL 2.8.3'. See: https://github.com/urllib3/urllib3/issues/3020\n",
      "  warnings.warn(\n"
     ]
    }
   ],
   "source": [
    "import fastf1\n",
    "import pandas as pd"
   ]
  },
  {
   "cell_type": "code",
   "execution_count": 2,
   "id": "4f92712a-465f-4344-82f7-5380344cc408",
   "metadata": {},
   "outputs": [
    {
     "name": "stderr",
     "output_type": "stream",
     "text": [
      "req         WARNING \tDEFAULT CACHE ENABLED! (24.0 KB) /Users/harshith.nikhil/Library/Caches/fastf1\n"
     ]
    }
   ],
   "source": [
    "schedule = fastf1.get_event_schedule(2023)"
   ]
  },
  {
   "cell_type": "code",
   "execution_count": 7,
   "id": "d4fca174-aac0-4ebc-8050-8a42d892a183",
   "metadata": {},
   "outputs": [
    {
     "data": {
      "text/plain": [
       "['Pre-Season Testing',\n",
       " 'Bahrain Grand Prix',\n",
       " 'Saudi Arabian Grand Prix',\n",
       " 'Australian Grand Prix',\n",
       " 'Azerbaijan Grand Prix',\n",
       " 'Miami Grand Prix',\n",
       " 'Monaco Grand Prix',\n",
       " 'Spanish Grand Prix',\n",
       " 'Canadian Grand Prix',\n",
       " 'Austrian Grand Prix',\n",
       " 'British Grand Prix',\n",
       " 'Hungarian Grand Prix',\n",
       " 'Belgian Grand Prix',\n",
       " 'Dutch Grand Prix',\n",
       " 'Italian Grand Prix',\n",
       " 'Singapore Grand Prix',\n",
       " 'Japanese Grand Prix',\n",
       " 'Qatar Grand Prix',\n",
       " 'United States Grand Prix',\n",
       " 'Mexico City Grand Prix',\n",
       " 'São Paulo Grand Prix',\n",
       " 'Las Vegas Grand Prix',\n",
       " 'Abu Dhabi Grand Prix']"
      ]
     },
     "execution_count": 7,
     "metadata": {},
     "output_type": "execute_result"
    }
   ],
   "source": [
    "s2023=schedule['EventName'].tolist()\n",
    "s2023"
   ]
  },
  {
   "cell_type": "code",
   "execution_count": 8,
   "id": "9b4cd4c2-633d-4a4d-b7e5-8df6adf24967",
   "metadata": {},
   "outputs": [],
   "source": [
    "schedule2 = fastf1.get_event_schedule(2024)"
   ]
  },
  {
   "cell_type": "code",
   "execution_count": 9,
   "id": "adb9151e-0011-486e-b6ea-295610aaf8c3",
   "metadata": {},
   "outputs": [
    {
     "data": {
      "text/plain": [
       "['Pre-Season Testing',\n",
       " 'Bahrain Grand Prix',\n",
       " 'Saudi Arabian Grand Prix',\n",
       " 'Australian Grand Prix',\n",
       " 'Japanese Grand Prix',\n",
       " 'Chinese Grand Prix',\n",
       " 'Miami Grand Prix',\n",
       " 'Emilia Romagna Grand Prix',\n",
       " 'Monaco Grand Prix',\n",
       " 'Canadian Grand Prix',\n",
       " 'Spanish Grand Prix',\n",
       " 'Austrian Grand Prix',\n",
       " 'British Grand Prix',\n",
       " 'Hungarian Grand Prix',\n",
       " 'Belgian Grand Prix',\n",
       " 'Dutch Grand Prix',\n",
       " 'Italian Grand Prix',\n",
       " 'Azerbaijan Grand Prix',\n",
       " 'Singapore Grand Prix',\n",
       " 'United States Grand Prix',\n",
       " 'Mexico City Grand Prix',\n",
       " 'São Paulo Grand Prix',\n",
       " 'Las Vegas Grand Prix',\n",
       " 'Qatar Grand Prix',\n",
       " 'Abu Dhabi Grand Prix']"
      ]
     },
     "execution_count": 9,
     "metadata": {},
     "output_type": "execute_result"
    }
   ],
   "source": [
    "s2024=schedule2['EventName'].tolist()\n",
    "s2024"
   ]
  },
  {
   "cell_type": "code",
   "execution_count": null,
   "id": "f29f2b4e-7320-4329-802d-625c0c242d27",
   "metadata": {},
   "outputs": [],
   "source": []
  }
 ],
 "metadata": {
  "kernelspec": {
   "display_name": "Python (f1-env)",
   "language": "python",
   "name": "f1-env"
  },
  "language_info": {
   "codemirror_mode": {
    "name": "ipython",
    "version": 3
   },
   "file_extension": ".py",
   "mimetype": "text/x-python",
   "name": "python",
   "nbconvert_exporter": "python",
   "pygments_lexer": "ipython3",
   "version": "3.9.6"
  }
 },
 "nbformat": 4,
 "nbformat_minor": 5
}
