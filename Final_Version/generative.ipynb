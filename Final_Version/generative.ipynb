{
 "cells": [
  {
   "cell_type": "code",
   "execution_count": 1,
   "id": "01064e00-54b4-44c5-9ef3-eae61c49f28e",
   "metadata": {},
   "outputs": [],
   "source": [
    "import os\n",
    "import numpy as np\n",
    "import pandas as pd\n",
    "import evaluate\n",
    "\n",
    "from datasets import load_dataset, Dataset\n",
    "from transformers import (\n",
    "    T5ForConditionalGeneration,\n",
    "    T5TokenizerFast,\n",
    "    DataCollatorForSeq2Seq,\n",
    "    Seq2SeqTrainingArguments,\n",
    "    Seq2SeqTrainer\n",
    ")\n",
    "import torch"
   ]
  },
  {
   "cell_type": "code",
   "execution_count": 2,
   "id": "a68946e5-d990-48fd-914b-80f765da3e70",
   "metadata": {},
   "outputs": [],
   "source": [
    "train_raw = load_dataset(\n",
    "    \"json\",\n",
    "    data_files=\"f1_train_new.json\",\n",
    "    field=\"data\"\n",
    ")[\"train\"]\n",
    "\n",
    "train_rows = []\n",
    "for item in train_raw:\n",
    "    for para in item[\"paragraphs\"]:\n",
    "        ctx = para[\"context\"]\n",
    "        for qa in para[\"qas\"]:\n",
    "            if not qa[\"answers\"]:\n",
    "                continue\n",
    "            train_rows.append({\n",
    "                \"question\":    qa[\"question\"],\n",
    "                \"context\":     ctx,\n",
    "                \"answer_text\": qa[\"answers\"][0][\"text\"]\n",
    "            })\n",
    "train_ds = Dataset.from_list(train_rows)"
   ]
  },
  {
   "cell_type": "code",
   "execution_count": 3,
   "id": "e3c7500e-1472-4d3b-ab87-7184e3f1b2a9",
   "metadata": {},
   "outputs": [],
   "source": [
    "val_raw = load_dataset(\n",
    "    \"json\",\n",
    "    data_files=\"f1_test_new.json\",\n",
    "    field=\"data\"\n",
    ")[\"train\"]\n",
    "\n",
    "val_rows = []\n",
    "for item in val_raw:\n",
    "    for para in item[\"paragraphs\"]:\n",
    "        ctx = para[\"context\"]\n",
    "        for qa in para[\"qas\"]:\n",
    "            if not qa[\"answers\"]:\n",
    "                continue\n",
    "            val_rows.append({\n",
    "                \"question\":    qa[\"question\"],\n",
    "                \"context\":     ctx,\n",
    "                \"answer_text\": qa[\"answers\"][0][\"text\"]\n",
    "            })\n",
    "val_ds = Dataset.from_list(val_rows)"
   ]
  },
  {
   "cell_type": "code",
   "execution_count": 4,
   "id": "38827258-80ab-42a1-8afc-f5ae4abe1790",
   "metadata": {},
   "outputs": [],
   "source": [
    "model_name = \"google/flan-t5-base\"\n",
    "tokenizer  = T5TokenizerFast.from_pretrained(model_name)\n",
    "model      = T5ForConditionalGeneration.from_pretrained(model_name)"
   ]
  },
  {
   "cell_type": "code",
   "execution_count": 5,
   "id": "9a4649a0-3e1c-4ef9-8a95-6ad17c8dd1cd",
   "metadata": {},
   "outputs": [],
   "source": [
    "max_input_length  = 512\n",
    "max_target_length = 32\n",
    "\n",
    "def preprocess_fn(examples):\n",
    "    inputs = [\n",
    "        f\"question: {q}  context: {c}\"\n",
    "        for q, c in zip(examples[\"question\"], examples[\"context\"])\n",
    "    ]\n",
    "    mi = tokenizer(\n",
    "        inputs,\n",
    "        max_length=512,\n",
    "        truncation=True,\n",
    "        padding=\"max_length\"\n",
    "    )\n",
    "    with tokenizer.as_target_tokenizer():\n",
    "        lbl = tokenizer(\n",
    "            examples[\"answer_text\"],\n",
    "            max_length=32,\n",
    "            truncation=True,\n",
    "            padding=\"max_length\"\n",
    "        )\n",
    "    # Here’s the critical bit: convert any possible numpy ints -> native Python ints\n",
    "    mi_input_ids = [[int(x) for x in seq] for seq in mi[\"input_ids\"]]\n",
    "    mi_attention = [[int(x) for x in seq] for seq in mi[\"attention_mask\"]]\n",
    "    lbl_ids      = [[int(x) for x in seq] for seq in lbl[\"input_ids\"]]\n",
    "\n",
    "    return {\n",
    "        \"input_ids\":      mi_input_ids,\n",
    "        \"attention_mask\": mi_attention,\n",
    "        \"labels\":         lbl_ids,\n",
    "    }"
   ]
  },
  {
   "cell_type": "code",
   "execution_count": 6,
   "id": "c713c81d-60cd-424e-baa3-1fafeb68c0fc",
   "metadata": {},
   "outputs": [
    {
     "data": {
      "application/vnd.jupyter.widget-view+json": {
       "model_id": "af2d84f556a64160a177c8c410fe8914",
       "version_major": 2,
       "version_minor": 0
      },
      "text/plain": [
       "Map:   0%|          | 0/124 [00:00<?, ? examples/s]"
      ]
     },
     "metadata": {},
     "output_type": "display_data"
    },
    {
     "name": "stderr",
     "output_type": "stream",
     "text": [
      "/home/zeus/miniconda3/envs/cloudspace/lib/python3.10/site-packages/transformers/tokenization_utils_base.py:3980: UserWarning: `as_target_tokenizer` is deprecated and will be removed in v5 of Transformers. You can tokenize your labels by using the argument `text_target` of the regular `__call__` method (either in the same call as your input texts if you use the same keyword arguments, or in a separate call.\n",
      "  warnings.warn(\n"
     ]
    },
    {
     "data": {
      "application/vnd.jupyter.widget-view+json": {
       "model_id": "3f78a7458b524709824b71777005e6ef",
       "version_major": 2,
       "version_minor": 0
      },
      "text/plain": [
       "Map:   0%|          | 0/124 [00:00<?, ? examples/s]"
      ]
     },
     "metadata": {},
     "output_type": "display_data"
    }
   ],
   "source": [
    "train_proc = train_ds.map(\n",
    "    preprocess_fn,\n",
    "    batched=True,\n",
    "    remove_columns=train_ds.column_names\n",
    ")\n",
    "val_proc = val_ds.map(\n",
    "    preprocess_fn,\n",
    "    batched=True,\n",
    "    remove_columns=val_ds.column_names\n",
    ")"
   ]
  },
  {
   "cell_type": "code",
   "execution_count": 7,
   "id": "bb40fc60-6a3d-4de0-a27b-e0b5fecf61b1",
   "metadata": {},
   "outputs": [],
   "source": [
    "train_proc.set_format(type=\"python\", columns=[\"input_ids\", \"attention_mask\", \"labels\"])\n",
    "val_proc  .set_format(type=\"python\", columns=[\"input_ids\", \"attention_mask\", \"labels\"])\n",
    "model.config.label_pad_token_id = -100"
   ]
  },
  {
   "cell_type": "code",
   "execution_count": 8,
   "id": "0e71dd4c-dfa6-4d12-99d0-5a9f5e2b89a0",
   "metadata": {},
   "outputs": [],
   "source": [
    "import torch\n",
    "from torch.nn.utils.rnn import pad_sequence\n",
    "from transformers import Seq2SeqTrainer, Seq2SeqTrainingArguments\n",
    "def collate_fn(batch):\n",
    "    # batch is a list of dicts each with keys: input_ids, attention_mask, labels\n",
    "    input_ids = [torch.tensor(example[\"input_ids\"],      dtype=torch.long) for example in batch]\n",
    "    attention_mask = [torch.tensor(example[\"attention_mask\"], dtype=torch.long) for example in batch]\n",
    "    labels     = [torch.tensor(example[\"labels\"],        dtype=torch.long) for example in batch]\n",
    "\n",
    "    # pad to the max length in this batch\n",
    "    batch_input_ids      = pad_sequence(input_ids,      batch_first=True, padding_value=tokenizer.pad_token_id)\n",
    "    batch_attention_mask = pad_sequence(attention_mask, batch_first=True, padding_value=0)\n",
    "    # pad labels with -100 so CrossEntropyLoss ignores them\n",
    "    batch_labels         = pad_sequence(labels,       batch_first=True, padding_value=-100)\n",
    "\n",
    "    return {\n",
    "        \"input_ids\":      batch_input_ids,\n",
    "        \"attention_mask\": batch_attention_mask,\n",
    "        \"labels\":         batch_labels,\n",
    "    }"
   ]
  },
  {
   "cell_type": "code",
   "execution_count": 9,
   "id": "ad8141e5-bbb0-4ed7-abe2-86b74893fdd7",
   "metadata": {},
   "outputs": [],
   "source": [
    "data_collator = DataCollatorForSeq2Seq(tokenizer, model=model)"
   ]
  },
  {
   "cell_type": "code",
   "execution_count": 10,
   "id": "c35124dc-77bf-478c-905d-a4b58db0d894",
   "metadata": {},
   "outputs": [],
   "source": [
    "bleu_metric  = evaluate.load(\"bleu\")\n",
    "rouge_metric = evaluate.load(\"rouge\")\n",
    "chrf_metric  = evaluate.load(\"chrf\")"
   ]
  },
  {
   "cell_type": "code",
   "execution_count": 11,
   "id": "8807be40-2512-4fcd-baeb-e6d1ba9fa5a5",
   "metadata": {},
   "outputs": [],
   "source": [
    "import numpy as np\n",
    "import torch\n",
    "\n",
    "def compute_metrics(eval_preds):\n",
    "    preds, labels = eval_preds\n",
    "\n",
    "    # 1) If generate returned (preds, scores), grab the first element\n",
    "    if isinstance(preds, tuple):\n",
    "        preds = preds[0]\n",
    "\n",
    "    # 2) Ensure preds is a NumPy array of ints\n",
    "    if isinstance(preds, torch.Tensor):\n",
    "        preds = preds.cpu().numpy()\n",
    "    else:\n",
    "        preds = np.array(preds)\n",
    "\n",
    "    # 3) Clamp to valid token‐ID range\n",
    "    preds = np.clip(preds, 0, tokenizer.vocab_size - 1).astype(int)\n",
    "\n",
    "    # 4) Decode predictions\n",
    "    decoded_preds = tokenizer.batch_decode(\n",
    "        preds.tolist(),\n",
    "        skip_special_tokens=True\n",
    "    )\n",
    "\n",
    "    # 5) Prepare labels the same way\n",
    "    if isinstance(labels, tuple):  # sometimes returned as (labels, _)\n",
    "        labels = labels[0]\n",
    "    if isinstance(labels, torch.Tensor):\n",
    "        labels = labels.cpu().numpy()\n",
    "    else:\n",
    "        labels = np.array(labels)\n",
    "\n",
    "    # replace -100 with pad_token_id, then clamp\n",
    "    labels = np.where(labels != -100, labels, tokenizer.pad_token_id)\n",
    "    labels = np.clip(labels, 0, tokenizer.vocab_size - 1).astype(int)\n",
    "\n",
    "    decoded_labels = tokenizer.batch_decode(\n",
    "        labels.tolist(),\n",
    "        skip_special_tokens=True\n",
    "    )\n",
    "\n",
    "    # 6) Compute text‐similarity metrics\n",
    "    bleu  = bleu_metric.compute(\n",
    "        predictions=decoded_preds,\n",
    "        references=[[ref] for ref in decoded_labels]\n",
    "    )[\"bleu\"]\n",
    "    rouge = rouge_metric.compute(\n",
    "        predictions=decoded_preds,\n",
    "        references=decoded_labels,\n",
    "        use_stemmer=True\n",
    "    )[\"rougeL\"]\n",
    "    chrf  = chrf_metric.compute(\n",
    "        predictions=decoded_preds,\n",
    "        references=decoded_labels\n",
    "    )[\"score\"]\n",
    "\n",
    "    return {\"bleu\": bleu, \"rougeL\": rouge, \"chrf\": chrf}"
   ]
  },
  {
   "cell_type": "code",
   "execution_count": 12,
   "id": "5e42dbdf-81ad-47da-8e89-45d596a2cbad",
   "metadata": {},
   "outputs": [],
   "source": [
    "training_args = Seq2SeqTrainingArguments(\n",
    "    output_dir=\"./flan_t5_f1_qa\",\n",
    "    eval_strategy=\"epoch\",\n",
    "    save_strategy=\"epoch\",\n",
    "    logging_strategy=\"epoch\",\n",
    "    per_device_train_batch_size=2,\n",
    "    per_device_eval_batch_size=2,\n",
    "    num_train_epochs=10,\n",
    "    learning_rate=1e-4,\n",
    "    predict_with_generate=True,\n",
    "    load_best_model_at_end=True,\n",
    "    metric_for_best_model=\"rougeL\",\n",
    "    greater_is_better=True,\n",
    "\n",
    "    # <— key flag so Trainer doesn't munge your columns\n",
    "    remove_unused_columns=False,\n",
    ")"
   ]
  },
  {
   "cell_type": "code",
   "execution_count": 13,
   "id": "88b4012f-f04a-4e69-84d8-ba904180ffc0",
   "metadata": {},
   "outputs": [
    {
     "name": "stderr",
     "output_type": "stream",
     "text": [
      "/tmp/ipykernel_5229/4188963101.py:1: FutureWarning: `tokenizer` is deprecated and will be removed in version 5.0.0 for `Seq2SeqTrainer.__init__`. Use `processing_class` instead.\n",
      "  trainer = Seq2SeqTrainer(\n"
     ]
    }
   ],
   "source": [
    "trainer = Seq2SeqTrainer(\n",
    "    model=model,\n",
    "    args=training_args,\n",
    "    train_dataset=train_proc,\n",
    "    eval_dataset=val_proc,\n",
    "    data_collator=collate_fn,    # our safe, explicit collator\n",
    "    tokenizer=tokenizer,\n",
    "    compute_metrics=compute_metrics,\n",
    ")"
   ]
  },
  {
   "cell_type": "code",
   "execution_count": 14,
   "id": "d1840adb-f197-4fdf-883e-8de063afa719",
   "metadata": {},
   "outputs": [
    {
     "name": "stderr",
     "output_type": "stream",
     "text": [
      "Passing a tuple of `past_key_values` is deprecated and will be removed in Transformers v4.48.0. You should pass an instance of `EncoderDecoderCache` instead, e.g. `past_key_values=EncoderDecoderCache.from_legacy_cache(past_key_values)`.\n"
     ]
    },
    {
     "data": {
      "text/html": [
       "\n",
       "    <div>\n",
       "      \n",
       "      <progress value='620' max='620' style='width:300px; height:20px; vertical-align: middle;'></progress>\n",
       "      [620/620 05:44, Epoch 10/10]\n",
       "    </div>\n",
       "    <table border=\"1\" class=\"dataframe\">\n",
       "  <thead>\n",
       " <tr style=\"text-align: left;\">\n",
       "      <th>Epoch</th>\n",
       "      <th>Training Loss</th>\n",
       "      <th>Validation Loss</th>\n",
       "      <th>Bleu</th>\n",
       "      <th>Rougel</th>\n",
       "      <th>Chrf</th>\n",
       "    </tr>\n",
       "  </thead>\n",
       "  <tbody>\n",
       "    <tr>\n",
       "      <td>1</td>\n",
       "      <td>8.573200</td>\n",
       "      <td>0.476997</td>\n",
       "      <td>0.000000</td>\n",
       "      <td>0.051075</td>\n",
       "      <td>5.319943</td>\n",
       "    </tr>\n",
       "    <tr>\n",
       "      <td>2</td>\n",
       "      <td>0.428900</td>\n",
       "      <td>0.182211</td>\n",
       "      <td>0.000000</td>\n",
       "      <td>0.303763</td>\n",
       "      <td>15.701203</td>\n",
       "    </tr>\n",
       "    <tr>\n",
       "      <td>3</td>\n",
       "      <td>0.197900</td>\n",
       "      <td>0.166219</td>\n",
       "      <td>0.000000</td>\n",
       "      <td>0.354839</td>\n",
       "      <td>25.609368</td>\n",
       "    </tr>\n",
       "    <tr>\n",
       "      <td>4</td>\n",
       "      <td>0.148300</td>\n",
       "      <td>0.148829</td>\n",
       "      <td>0.000000</td>\n",
       "      <td>0.416667</td>\n",
       "      <td>25.136468</td>\n",
       "    </tr>\n",
       "    <tr>\n",
       "      <td>5</td>\n",
       "      <td>0.136300</td>\n",
       "      <td>0.147047</td>\n",
       "      <td>0.000000</td>\n",
       "      <td>0.451613</td>\n",
       "      <td>25.687915</td>\n",
       "    </tr>\n",
       "    <tr>\n",
       "      <td>6</td>\n",
       "      <td>0.119300</td>\n",
       "      <td>0.146635</td>\n",
       "      <td>0.000000</td>\n",
       "      <td>0.456989</td>\n",
       "      <td>22.064866</td>\n",
       "    </tr>\n",
       "    <tr>\n",
       "      <td>7</td>\n",
       "      <td>0.112300</td>\n",
       "      <td>0.153315</td>\n",
       "      <td>0.000000</td>\n",
       "      <td>0.454301</td>\n",
       "      <td>25.088888</td>\n",
       "    </tr>\n",
       "    <tr>\n",
       "      <td>8</td>\n",
       "      <td>0.097800</td>\n",
       "      <td>0.150151</td>\n",
       "      <td>0.000000</td>\n",
       "      <td>0.459677</td>\n",
       "      <td>22.888546</td>\n",
       "    </tr>\n",
       "    <tr>\n",
       "      <td>9</td>\n",
       "      <td>0.097900</td>\n",
       "      <td>0.154932</td>\n",
       "      <td>0.000000</td>\n",
       "      <td>0.470430</td>\n",
       "      <td>21.990063</td>\n",
       "    </tr>\n",
       "    <tr>\n",
       "      <td>10</td>\n",
       "      <td>0.087400</td>\n",
       "      <td>0.159066</td>\n",
       "      <td>0.000000</td>\n",
       "      <td>0.470430</td>\n",
       "      <td>21.888758</td>\n",
       "    </tr>\n",
       "  </tbody>\n",
       "</table><p>"
      ],
      "text/plain": [
       "<IPython.core.display.HTML object>"
      ]
     },
     "metadata": {},
     "output_type": "display_data"
    },
    {
     "name": "stderr",
     "output_type": "stream",
     "text": [
      "There were missing keys in the checkpoint model loaded: ['encoder.embed_tokens.weight', 'decoder.embed_tokens.weight'].\n"
     ]
    },
    {
     "data": {
      "text/plain": [
       "TrainOutput(global_step=620, training_loss=0.9999293211967715, metrics={'train_runtime': 346.03, 'train_samples_per_second': 3.584, 'train_steps_per_second': 1.792, 'total_flos': 849099117035520.0, 'train_loss': 0.9999293211967715, 'epoch': 10.0})"
      ]
     },
     "execution_count": 14,
     "metadata": {},
     "output_type": "execute_result"
    }
   ],
   "source": [
    "trainer.train()"
   ]
  },
  {
   "cell_type": "code",
   "execution_count": 15,
   "id": "1f3b8349-baf7-4291-aad8-10b92cbd8e56",
   "metadata": {},
   "outputs": [
    {
     "data": {
      "text/plain": [
       "('./flan_t5_f1_qa/tokenizer_config.json',\n",
       " './flan_t5_f1_qa/special_tokens_map.json',\n",
       " './flan_t5_f1_qa/tokenizer.json')"
      ]
     },
     "execution_count": 15,
     "metadata": {},
     "output_type": "execute_result"
    }
   ],
   "source": [
    "trainer.save_model(\"./flan_t5_f1_qa\")\n",
    "tokenizer.save_pretrained(\"./flan_t5_f1_qa\")"
   ]
  }
 ],
 "metadata": {
  "kernelspec": {
   "display_name": "Python 3",
   "language": "python",
   "name": "python3"
  },
  "language_info": {
   "codemirror_mode": {
    "name": "ipython",
    "version": 3
   },
   "file_extension": ".py",
   "mimetype": "text/x-python",
   "name": "python",
   "nbconvert_exporter": "python",
   "pygments_lexer": "ipython3",
   "version": "3.10.10"
  }
 },
 "nbformat": 4,
 "nbformat_minor": 5
}
