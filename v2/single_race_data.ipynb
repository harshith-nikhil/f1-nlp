{
 "cells": [
  {
   "cell_type": "code",
   "execution_count": 1,
   "id": "92a982b2-52c6-46fc-a924-3ce81165f5d1",
   "metadata": {},
   "outputs": [],
   "source": [
    "import warnings\n",
    "warnings.filterwarnings('ignore')"
   ]
  },
  {
   "cell_type": "code",
   "execution_count": 2,
   "id": "b4be10e8-7bbc-4ca4-bca2-6549ef27f9c8",
   "metadata": {},
   "outputs": [],
   "source": [
    "import pandas as pd\n",
    "import numpy as np\n",
    "import fastf1\n",
    "from fastf1.core import *"
   ]
  },
  {
   "cell_type": "code",
   "execution_count": 3,
   "id": "f95d25df-007e-4ae8-87ec-49eaaa5f82df",
   "metadata": {},
   "outputs": [],
   "source": [
    "from data_extraction import *"
   ]
  },
  {
   "cell_type": "code",
   "execution_count": 4,
   "id": "4c8f5323-e946-4d79-b279-2eb011794691",
   "metadata": {},
   "outputs": [
    {
     "name": "stderr",
     "output_type": "stream",
     "text": [
      "req         WARNING \tDEFAULT CACHE ENABLED! (4.67 GB) /Users/harshith.nikhil/Library/Caches/fastf1\n",
      "core           INFO \tLoading data for Monaco Grand Prix - Race [v3.5.3]\n",
      "req            INFO \tUsing cached data for session_info\n",
      "req            INFO \tUsing cached data for driver_info\n",
      "req            INFO \tUsing cached data for session_status_data\n",
      "req            INFO \tUsing cached data for lap_count\n",
      "req            INFO \tUsing cached data for track_status_data\n",
      "req            INFO \tUsing cached data for _extended_timing_data\n",
      "req            INFO \tUsing cached data for timing_app_data\n",
      "core           INFO \tProcessing timing data...\n",
      "req            INFO \tUsing cached data for car_data\n",
      "req            INFO \tUsing cached data for position_data\n",
      "req            INFO \tUsing cached data for weather_data\n",
      "req            INFO \tUsing cached data for race_control_messages\n",
      "core           INFO \tFinished loading data for 20 drivers: ['1', '14', '31', '44', '63', '16', '10', '55', '4', '81', '77', '21', '24', '23', '22', '11', '27', '2', '20', '18']\n"
     ]
    }
   ],
   "source": [
    "monaco_2023=get_session_data(2023, 'Monaco', 'R')"
   ]
  },
  {
   "cell_type": "code",
   "execution_count": 5,
   "id": "02a78bee-a371-433a-8039-37a094e12b51",
   "metadata": {},
   "outputs": [],
   "source": [
    "race_res = preprocess_race_results(monaco_2023)"
   ]
  },
  {
   "cell_type": "code",
   "execution_count": 6,
   "id": "4c2861e9-1034-436e-baea-3b7501527878",
   "metadata": {},
   "outputs": [
    {
     "name": "stdout",
     "output_type": "stream",
     "text": [
      "<class 'fastf1.core.SessionResults'>\n",
      "Index: 20 entries, 1 to 18\n",
      "Data columns (total 13 columns):\n",
      " #   Column              Non-Null Count  Dtype  \n",
      "---  ------              --------------  -----  \n",
      " 0   DriverNumber        20 non-null     object \n",
      " 1   Abbreviation        20 non-null     object \n",
      " 2   DriverId            20 non-null     object \n",
      " 3   TeamName            20 non-null     object \n",
      " 4   TeamColor           20 non-null     object \n",
      " 5   FullName            20 non-null     object \n",
      " 6   CountryCode         20 non-null     object \n",
      " 7   Position            20 non-null     float64\n",
      " 8   ClassifiedPosition  20 non-null     object \n",
      " 9   GridPosition        20 non-null     float64\n",
      " 10  Status              20 non-null     object \n",
      " 11  Points              20 non-null     float64\n",
      " 12  RaceTime            20 non-null     object \n",
      "dtypes: float64(3), object(10)\n",
      "memory usage: 2.2+ KB\n"
     ]
    }
   ],
   "source": [
    "race_res.info()"
   ]
  },
  {
   "cell_type": "code",
   "execution_count": 7,
   "id": "f5ae5d5d-b009-48f5-91cd-7518d519f4ef",
   "metadata": {},
   "outputs": [],
   "source": [
    "lap_res=generate_laps_summary(monaco_2023)"
   ]
  },
  {
   "cell_type": "code",
   "execution_count": 8,
   "id": "d07aa150-fd62-4f60-95e8-4cced5e4c295",
   "metadata": {},
   "outputs": [
    {
     "data": {
      "text/plain": [
       "Status\n",
       "Lapped      10\n",
       "Finished     9\n",
       "Retired      1\n",
       "Name: count, dtype: int64"
      ]
     },
     "execution_count": 8,
     "metadata": {},
     "output_type": "execute_result"
    }
   ],
   "source": [
    "race_res['Status'].value_counts()"
   ]
  },
  {
   "cell_type": "code",
   "execution_count": 9,
   "id": "b118493f-de14-4972-9e61-fd3570c6ac89",
   "metadata": {},
   "outputs": [
    {
     "data": {
      "text/html": [
       "<div>\n",
       "<style scoped>\n",
       "    .dataframe tbody tr th:only-of-type {\n",
       "        vertical-align: middle;\n",
       "    }\n",
       "\n",
       "    .dataframe tbody tr th {\n",
       "        vertical-align: top;\n",
       "    }\n",
       "\n",
       "    .dataframe thead th {\n",
       "        text-align: right;\n",
       "    }\n",
       "</style>\n",
       "<table border=\"1\" class=\"dataframe\">\n",
       "  <thead>\n",
       "    <tr style=\"text-align: right;\">\n",
       "      <th></th>\n",
       "      <th>Driver</th>\n",
       "      <th>Compound</th>\n",
       "      <th>LapsOnCompound</th>\n",
       "      <th>FastestLapOnCompound</th>\n",
       "      <th>FastestSector1</th>\n",
       "      <th>FastestSector2</th>\n",
       "      <th>FastestSector3</th>\n",
       "      <th>FastestLapOverall</th>\n",
       "      <th>PitStops</th>\n",
       "    </tr>\n",
       "  </thead>\n",
       "  <tbody>\n",
       "    <tr>\n",
       "      <th>0</th>\n",
       "      <td>VER</td>\n",
       "      <td>INTERMEDIATE</td>\n",
       "      <td>22</td>\n",
       "      <td>01:25.201</td>\n",
       "      <td>00:22.004</td>\n",
       "      <td>00:40.652</td>\n",
       "      <td>00:21.731</td>\n",
       "      <td>01:16.604</td>\n",
       "      <td>1</td>\n",
       "    </tr>\n",
       "    <tr>\n",
       "      <th>1</th>\n",
       "      <td>VER</td>\n",
       "      <td>MEDIUM</td>\n",
       "      <td>53</td>\n",
       "      <td>01:16.604</td>\n",
       "      <td>00:19.913</td>\n",
       "      <td>00:36.053</td>\n",
       "      <td>00:20.320</td>\n",
       "      <td>01:16.604</td>\n",
       "      <td>1</td>\n",
       "    </tr>\n",
       "    <tr>\n",
       "      <th>2</th>\n",
       "      <td>GAS</td>\n",
       "      <td>HARD</td>\n",
       "      <td>45</td>\n",
       "      <td>01:16.839</td>\n",
       "      <td>00:19.978</td>\n",
       "      <td>00:36.326</td>\n",
       "      <td>00:20.518</td>\n",
       "      <td>01:15.831</td>\n",
       "      <td>2</td>\n",
       "    </tr>\n",
       "    <tr>\n",
       "      <th>3</th>\n",
       "      <td>GAS</td>\n",
       "      <td>INTERMEDIATE</td>\n",
       "      <td>22</td>\n",
       "      <td>01:25.607</td>\n",
       "      <td>00:22.318</td>\n",
       "      <td>00:41.293</td>\n",
       "      <td>00:21.658</td>\n",
       "      <td>01:15.831</td>\n",
       "      <td>2</td>\n",
       "    </tr>\n",
       "    <tr>\n",
       "      <th>4</th>\n",
       "      <td>GAS</td>\n",
       "      <td>MEDIUM</td>\n",
       "      <td>4</td>\n",
       "      <td>01:15.831</td>\n",
       "      <td>00:19.843</td>\n",
       "      <td>00:35.628</td>\n",
       "      <td>00:20.282</td>\n",
       "      <td>01:15.831</td>\n",
       "      <td>2</td>\n",
       "    </tr>\n",
       "  </tbody>\n",
       "</table>\n",
       "</div>"
      ],
      "text/plain": [
       "  Driver      Compound  LapsOnCompound FastestLapOnCompound FastestSector1  \\\n",
       "0    VER  INTERMEDIATE              22            01:25.201      00:22.004   \n",
       "1    VER        MEDIUM              53            01:16.604      00:19.913   \n",
       "2    GAS          HARD              45            01:16.839      00:19.978   \n",
       "3    GAS  INTERMEDIATE              22            01:25.607      00:22.318   \n",
       "4    GAS        MEDIUM               4            01:15.831      00:19.843   \n",
       "\n",
       "  FastestSector2 FastestSector3 FastestLapOverall  PitStops  \n",
       "0      00:40.652      00:21.731         01:16.604         1  \n",
       "1      00:36.053      00:20.320         01:16.604         1  \n",
       "2      00:36.326      00:20.518         01:15.831         2  \n",
       "3      00:41.293      00:21.658         01:15.831         2  \n",
       "4      00:35.628      00:20.282         01:15.831         2  "
      ]
     },
     "execution_count": 9,
     "metadata": {},
     "output_type": "execute_result"
    }
   ],
   "source": [
    "lap_res.head()"
   ]
  },
  {
   "cell_type": "code",
   "execution_count": 10,
   "id": "b6cb6699-7fdc-4e70-903f-6c0053437898",
   "metadata": {},
   "outputs": [],
   "source": [
    "abbr_to_name = dict(zip(race_res[\"Abbreviation\"], race_res[\"FullName\"]))\n",
    "\n",
    "lap_res[\"FullName\"] = lap_res[\"Driver\"].map(abbr_to_name)"
   ]
  },
  {
   "cell_type": "code",
   "execution_count": 11,
   "id": "806fbb0a-67ee-421b-a967-5f6748b9290e",
   "metadata": {},
   "outputs": [],
   "source": [
    "GP_NAME = \"Monaco Grand Prix\""
   ]
  },
  {
   "cell_type": "code",
   "execution_count": 12,
   "id": "f377f57e-25d8-4e89-9442-21cd8e3735a7",
   "metadata": {},
   "outputs": [],
   "source": [
    "race_summary_tmpl = (\n",
    "    \"In the {GP_NAME}, {FullName} (#{DriverNumber}, {CountryCode}) drove for \"\n",
    "    \"{TeamName}, started P{GridPosition}, and finished P{Position} ({ClassifiedPosition}). \"\n",
    "    \"They scored {Points} points with a total time of {RaceTime}. \"\n",
    "    \"{n_finished} finished the race, {n_lapped} driver(s) got lapped, {n_retired} driver(s) retired.\"\n",
    ")\n",
    "driver_tmpl = (\n",
    "    \"{FullName} began on P{GridPosition}, classified as {ClassifiedPosition}, \"\n",
    "    \"earning {Points} point(s). Status: {Status}.\"\n",
    ")\n",
    "stint_tmpl = (\n",
    "    \"{FullName} used the {Compound} tyre for {LapsOnCompound} lap(s), \"\n",
    "    \"with best lap on that tyre in {FastestLapOnCompound}.\"\n",
    ")\n",
    "lap_overall_tmpl = (\n",
    "    \"{FullName}’s overall fastest lap was {FastestLapOverall}; \"\n",
    "    \"sectors: S1={FastestSector1}, S2={FastestSector2}, S3={FastestSector3}.\"\n",
    ")\n",
    "pit_tmpl = \"{FullName} made {PitStops} pit stop(s).\""
   ]
  },
  {
   "cell_type": "code",
   "execution_count": 13,
   "id": "ab722471-49c8-4661-b63b-74ead19164a2",
   "metadata": {},
   "outputs": [],
   "source": [
    "row0     = race_res.iloc[0]\n",
    "n_lapped = (race_res.Status.str.lower() == \"lapped\").sum()\n",
    "n_finished = (race_res.Status.str.lower() == \"finished\").sum()\n",
    "n_retired = (race_res.Status.str.lower() == \"retired\").sum()"
   ]
  },
  {
   "cell_type": "code",
   "execution_count": 14,
   "id": "a52469a9-ccf0-4809-84f6-0fdf5e60a2b9",
   "metadata": {},
   "outputs": [
    {
     "name": "stdout",
     "output_type": "stream",
     "text": [
      "In the Monaco Grand Prix, Max Verstappen (#1, NED) drove for Red Bull Racing, started P1.0, and finished P1.0 (1). They scored 25.0 points with a total time of 108:51.980. 9 finished the race, 10 driver(s) got lapped, 1 driver(s) retired.\n",
      "Max Verstappen began on P1.0, classified as 1, earning 25.0 point(s). Status: Finished.\n",
      "Fernando Alonso began on P2.0, classified as 2, earning 18.0 point(s). Status: Finished.\n",
      "Esteban Ocon began on P3.0, classified as 3, earning 15.0 point(s). Status: Finished.\n",
      "Lewis Hamilton began on P5.0, classified as 4, earning 13.0 point(s). Status: Finished.\n",
      "George Russell began on P8.0, classified as 5, earning 10.0 point(s). Status: Finished.\n",
      "Charles Leclerc began on P6.0, classified as 6, earning 8.0 point(s). Status: Finished.\n",
      "Pierre Gasly began on P7.0, classified as 7, earning 6.0 point(s). Status: Finished.\n",
      "Carlos Sainz began on P4.0, classified as 8, earning 4.0 point(s). Status: Finished.\n",
      "Lando Norris began on P10.0, classified as 9, earning 2.0 point(s). Status: Lapped.\n",
      "Oscar Piastri began on P11.0, classified as 10, earning 1.0 point(s). Status: Lapped.\n",
      "Valtteri Bottas began on P15.0, classified as 11, earning 0.0 point(s). Status: Lapped.\n",
      "Nyck De Vries began on P12.0, classified as 12, earning 0.0 point(s). Status: Lapped.\n",
      "Guanyu Zhou began on P19.0, classified as 13, earning 0.0 point(s). Status: Lapped.\n",
      "Alexander Albon began on P13.0, classified as 14, earning 0.0 point(s). Status: Lapped.\n",
      "Yuki Tsunoda began on P9.0, classified as 15, earning 0.0 point(s). Status: Lapped.\n",
      "Sergio Perez began on P20.0, classified as 16, earning 0.0 point(s). Status: Lapped.\n",
      "Nico Hulkenberg began on P18.0, classified as 17, earning 0.0 point(s). Status: Lapped.\n",
      "Logan Sargeant began on P16.0, classified as 18, earning 0.0 point(s). Status: Lapped.\n",
      "Kevin Magnussen began on P17.0, classified as 19, earning 0.0 point(s). Status: Finished.\n",
      "Lance Stroll began on P14.0, classified as R, earning 0.0 point(s). Status: Retired.\n"
     ]
    }
   ],
   "source": [
    "summary = race_summary_tmpl.format(**row0.to_dict(), GP_NAME=GP_NAME, n_finished=n_finished, n_lapped=n_lapped, n_retired=n_retired)\n",
    "driver_lines = [ driver_tmpl.format(**r.to_dict()) for _,r in race_res.iterrows() ]\n",
    "stint_texts = [\n",
    "    stint_tmpl.format(**r.to_dict())\n",
    "    for _, r in lap_res.iterrows()\n",
    "]\n",
    "\n",
    "# For each driver, pick the row with the *fastest* lap overall\n",
    "idx_best = lap_res.groupby(\"FullName\")[\"FastestLapOverall\"].idxmin()\n",
    "best_lap_rows = lap_res.loc[idx_best]\n",
    "\n",
    "lap_texts = [\n",
    "    lap_overall_tmpl.format(**r.to_dict())\n",
    "    for _, r in best_lap_rows.iterrows()\n",
    "]\n",
    "\n",
    "# For each driver, sum (or max) their pit stops\n",
    "#    If PitStops is cumulative per row, use max(); \n",
    "#    if it’s per‐stint, use sum().\n",
    "pit_counts = lap_res.groupby(\"FullName\")[\"PitStops\"].unique()\n",
    "pit_texts = [\n",
    "    pit_tmpl.format(FullName=drv, PitStops=count)\n",
    "    for drv, count in pit_counts.items()\n",
    "]\n",
    "\n",
    "# Combine into your full lap‐context\n",
    "context = \"\\n\".join([summary] + driver_lines)\n",
    "print(context)"
   ]
  },
  {
   "cell_type": "markdown",
   "id": "f8a058a7-9ca6-4695-84c4-f0606a6d2467",
   "metadata": {},
   "source": [
    "### QA SPECS"
   ]
  },
  {
   "cell_type": "code",
   "execution_count": 16,
   "id": "ab3a644b-a2a5-495e-b4e4-7cbc0748fb26",
   "metadata": {},
   "outputs": [],
   "source": [
    "qa_specs = [\n",
    "    # ----- Race Results questions -----\n",
    "    (\n",
    "      \"Who won the {GPName}?\",\n",
    "      lambda rr, lr: rr.loc[rr.Position == 1, \"FullName\"].iloc[0]\n",
    "    ),\n",
    "    (\n",
    "      \"Which driver finished in position {pos}?\",\n",
    "      lambda rr, lr, pos: rr.loc[rr.Position == int(pos), \"FullName\"].iloc[0]\n",
    "    ),\n",
    "    (\n",
    "      \"What was {driver}'s starting grid position?\",\n",
    "      lambda rr, lr, driver: int(rr.loc[rr.FullName == driver, \"GridPosition\"].iloc[0])\n",
    "    ),\n",
    "    (\n",
    "      \"What was {driver}'s classified position?\",\n",
    "      lambda rr, lr, driver: rr.loc[rr.FullName == driver, \"ClassifiedPosition\"].iloc[0]\n",
    "    ),\n",
    "    (\n",
    "      \"How many points did {driver} score?\",\n",
    "      lambda rr, lr, driver: str(rr.loc[rr.FullName == driver, \"Points\"].iloc[0])\n",
    "    ),\n",
    "    (\n",
    "      \"What was {driver}'s total race time?\",\n",
    "      lambda rr, lr, driver: rr.loc[rr.FullName == driver, \"RaceTime\"].iloc[0]\n",
    "    ),\n",
    "    (\n",
    "      \"Which drivers retired in the {GPName}?\",\n",
    "      lambda rr, lr: \", \".join(rr.loc[rr.Status.str.lower()==\"retired\", \"FullName\"].tolist())\n",
    "    ),\n",
    "    (\n",
    "      \"How many drivers retired in the {GPName}?\",\n",
    "      lambda rr, lr: str((rr.Status.str.lower()==\"retired\").sum())\n",
    "    ),\n",
    "    (\n",
    "      \"Which team scored the most points?\",\n",
    "      lambda rr, lr: rr.groupby(\"TeamName\").Points.sum().idxmax()\n",
    "    ),\n",
    "    (\n",
    "      \"What is the country code of {driver}?\",\n",
    "      lambda rr, lr, driver: rr.loc[rr.FullName == driver, \"CountryCode\"].iloc[0]\n",
    "    ),\n",
    "\n",
    "]"
   ]
  },
  {
   "cell_type": "code",
   "execution_count": 21,
   "id": "1741f850-b362-4d97-a7f6-022f3cd5158c",
   "metadata": {},
   "outputs": [],
   "source": [
    "import string\n",
    "from itertools import product\n",
    "\n",
    "GP_NAME   = \"Monaco Grand Prix\"\n",
    "qas       = []\n",
    "formatter = string.Formatter()\n",
    "\n",
    "# Precompute domains\n",
    "pos_vals    = sorted(race_res.Position.astype(int).unique())\n",
    "driver_vals = race_res.FullName.unique().tolist()\n",
    "\n",
    "for i, (tmpl, fn) in enumerate(qa_specs):\n",
    "    # 1) find which fields appear in tmpl\n",
    "    fields       = [fname for _, fname, _, _ in formatter.parse(tmpl) if fname]\n",
    "    extra_fields = [f for f in fields if f != \"GPName\"]\n",
    "\n",
    "    # 2) if it has extra slots, loop over them\n",
    "    if extra_fields:\n",
    "        # build domain mapping for only pos/driver\n",
    "        domain = []\n",
    "        for f in extra_fields:\n",
    "            if f == \"pos\":\n",
    "                domain.append((f, pos_vals))\n",
    "            elif f == \"driver\":\n",
    "                domain.append((f, driver_vals))\n",
    "            else:\n",
    "                raise ValueError(f\"Unknown placeholder {f!r} in template\")\n",
    "\n",
    "        # cartesian product of all values for those slots\n",
    "        for combo in product(*[vals for _, vals in domain]):\n",
    "            # prepare formatting kwargs and fn kwargs\n",
    "            template_kwargs = {\"GPName\": GP_NAME}\n",
    "            fn_kwargs       = {}\n",
    "            for (name, _), val in zip(domain, combo):\n",
    "                template_kwargs[name] = val\n",
    "                fn_kwargs[name]       = val\n",
    "\n",
    "            # format question & get answer\n",
    "            question = tmpl.format(**template_kwargs)\n",
    "            answer   = fn(race_res, lap_res,  **fn_kwargs)\n",
    "            answer   = str(answer)\n",
    "            start    = context.find(answer)\n",
    "\n",
    "            qas.append({\n",
    "                \"id\": f\"q{i}_\" + \"_\".join(f\"{name}{val}\".replace(\" \", \"\") \n",
    "                                         for (name,_), val in zip(domain, combo)),\n",
    "                \"question\": question,\n",
    "                \"answers\": [{\"text\": answer, \"answer_start\": start}],\n",
    "                \"is_impossible\": False\n",
    "            })\n",
    "\n",
    "    else:\n",
    "        # no extra slots → single question\n",
    "        question = tmpl.format(GPName=GP_NAME)\n",
    "        answer   = fn(race_res, lap_res)\n",
    "        answer   = str(answer)\n",
    "        start    = context.find(answer)\n",
    "\n",
    "        qas.append({\n",
    "            \"id\": f\"q{i}\",\n",
    "            \"question\": question,\n",
    "            \"answers\": [{\"text\": answer, \"answer_start\": start}],\n",
    "            \"is_impossible\": False\n",
    "        })"
   ]
  },
  {
   "cell_type": "code",
   "execution_count": 22,
   "id": "b72739af-f396-4439-8b5e-b029114670ce",
   "metadata": {},
   "outputs": [
    {
     "name": "stdout",
     "output_type": "stream",
     "text": [
      "Saved f1_gp_qa_new.json\n"
     ]
    }
   ],
   "source": [
    "import json\n",
    "\n",
    "squad = {\n",
    "    \"data\": [{\n",
    "        \"title\": GP_NAME,\n",
    "        \"paragraphs\": [{\n",
    "            \"context\": context,\n",
    "            \"qas\": qas\n",
    "        }]\n",
    "    }]\n",
    "}\n",
    "\n",
    "with open(\"f1_gp_qa.json\", \"w\") as f:\n",
    "    json.dump(squad, f, indent=2)\n",
    "print(\"Saved f1_gp_qa_new.json\")"
   ]
  },
  {
   "cell_type": "code",
   "execution_count": 23,
   "id": "cbebca5b-67a9-4711-9cb3-03dc45519e25",
   "metadata": {},
   "outputs": [
    {
     "name": "stdout",
     "output_type": "stream",
     "text": [
      "Wrote train.json & val.json\n"
     ]
    }
   ],
   "source": [
    "from sklearn.model_selection import train_test_split\n",
    "\n",
    "orig = squad[\"data\"][0][\"paragraphs\"][0]\n",
    "train_qas, val_qas = train_test_split(orig[\"qas\"], test_size=0.2, random_state=42)\n",
    "\n",
    "train_squad = {\"data\":[{\"title\":GP_NAME,\"paragraphs\":[{\"context\":context,\"qas\":train_qas}]}]}\n",
    "val_squad   = {\"data\":[{\"title\":GP_NAME,\"paragraphs\":[{\"context\":context,\"qas\":val_qas}]}]}\n",
    "\n",
    "with open(\"train.json\",\"w\") as f: json.dump(train_squad, f, indent=2)\n",
    "with open(\"val.json\",  \"w\") as f: json.dump(val_squad,   f, indent=2)\n",
    "print(\"Wrote train.json & val.json\")"
   ]
  },
  {
   "cell_type": "code",
   "execution_count": null,
   "id": "f028db5a-3a11-4416-b4ad-c8026a3f30ea",
   "metadata": {},
   "outputs": [],
   "source": []
  }
 ],
 "metadata": {
  "kernelspec": {
   "display_name": "Python (f1-venv)",
   "language": "python",
   "name": "f1-venv"
  },
  "language_info": {
   "codemirror_mode": {
    "name": "ipython",
    "version": 3
   },
   "file_extension": ".py",
   "mimetype": "text/x-python",
   "name": "python",
   "nbconvert_exporter": "python",
   "pygments_lexer": "ipython3",
   "version": "3.9.6"
  }
 },
 "nbformat": 4,
 "nbformat_minor": 5
}
