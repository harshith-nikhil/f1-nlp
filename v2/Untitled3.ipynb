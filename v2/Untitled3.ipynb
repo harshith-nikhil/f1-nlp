{
 "cells": [
  {
   "cell_type": "code",
   "execution_count": 1,
   "id": "25efedca-4605-4e34-8b5c-177b37f88bac",
   "metadata": {},
   "outputs": [],
   "source": [
    "from datasets import load_dataset, Dataset, DatasetDict\n",
    "from transformers import (\n",
    "    AutoTokenizer,\n",
    "    AutoModelForQuestionAnswering,\n",
    "    TrainingArguments,\n",
    "    Trainer,\n",
    "    pipeline\n",
    ")"
   ]
  },
  {
   "cell_type": "code",
   "execution_count": 2,
   "id": "f0c8c273-d4c0-4ed0-9438-809ccee4e406",
   "metadata": {},
   "outputs": [],
   "source": [
    "# 1) Load & flatten JSON\n",
    "raw_ds = load_dataset(\"json\", data_files=\"f1_gp_qa.json\", field=\"data\")\n",
    "split_name = list(raw_ds.keys())[0]\n",
    "raw = raw_ds[split_name]\n",
    "rows = []\n",
    "for rec in raw:\n",
    "    for para in rec[\"paragraphs\"]:\n",
    "        ctx = para[\"context\"]\n",
    "        for qa in para[\"qas\"]:\n",
    "            text = qa[\"answers\"][0][\"text\"]\n",
    "            start = qa[\"answers\"][0].get(\"answer_start\", ctx.find(text))\n",
    "            rows.append({\n",
    "                \"context\": ctx,\n",
    "                \"question\": qa[\"question\"],\n",
    "                \"answer_text\": text,\n",
    "                \"answer_start\": start\n",
    "            })\n",
    "flat = Dataset.from_list(rows)"
   ]
  },
  {
   "cell_type": "code",
   "execution_count": 3,
   "id": "c01e259c-e7eb-406e-8170-4075b7c1ba44",
   "metadata": {},
   "outputs": [],
   "source": [
    "# 2) Train/validation split (80/20)\n",
    "split = flat.train_test_split(test_size=0.2, seed=42)\n",
    "train_ds = split[\"train\"]\n",
    "val_ds   = split[\"test\"]"
   ]
  },
  {
   "cell_type": "code",
   "execution_count": 4,
   "id": "b9fd0850-699e-4d8e-b635-41b45b515a55",
   "metadata": {},
   "outputs": [
    {
     "data": {
      "application/vnd.jupyter.widget-view+json": {
       "model_id": "1d2a6ac6cae043b3aaca2979834481bc",
       "version_major": 2,
       "version_minor": 0
      },
      "text/plain": [
       "Filter:   0%|          | 0/72 [00:00<?, ? examples/s]"
      ]
     },
     "metadata": {},
     "output_type": "display_data"
    }
   ],
   "source": [
    "bad_indices = {12, 23, 27, 31, 37, 52, 60}\n",
    "good_val_ds = val_ds.filter(lambda _, idx: idx not in bad_indices, with_indices=True)"
   ]
  },
  {
   "cell_type": "code",
   "execution_count": 5,
   "id": "8c707df9-92b6-4d9b-8de6-905a394b3d66",
   "metadata": {},
   "outputs": [
    {
     "name": "stderr",
     "output_type": "stream",
     "text": [
      "Some weights of LongformerForQuestionAnswering were not initialized from the model checkpoint at allenai/longformer-base-4096 and are newly initialized: ['qa_outputs.bias', 'qa_outputs.weight']\n",
      "You should probably TRAIN this model on a down-stream task to be able to use it for predictions and inference.\n"
     ]
    }
   ],
   "source": [
    "# 4) Initialize tokenizer & model (Longformer 4k)\n",
    "checkpoint = \"allenai/longformer-base-4096\"\n",
    "tokenizer  = AutoTokenizer.from_pretrained(checkpoint)\n",
    "model      = AutoModelForQuestionAnswering.from_pretrained(checkpoint)"
   ]
  },
  {
   "cell_type": "code",
   "execution_count": 6,
   "id": "b774d160-e03c-4d24-82ec-04aff6be0c13",
   "metadata": {},
   "outputs": [],
   "source": [
    "def prepare_features(examples):\n",
    "    tokenized = tokenizer(\n",
    "        examples[\"question\"],\n",
    "        examples[\"context\"],\n",
    "        max_length=4096,\n",
    "        truncation=\"only_second\",\n",
    "        stride=512,\n",
    "        return_overflowing_tokens=True,\n",
    "        return_offsets_mapping=True,\n",
    "        padding=\"max_length\"\n",
    "    )\n",
    "    starts, ends = [], []\n",
    "    for i, offsets in enumerate(tokenized[\"offset_mapping\"]):\n",
    "        sample_idx = tokenized[\"overflow_to_sample_mapping\"][i]\n",
    "        sc = examples[\"answer_start\"][sample_idx]\n",
    "        ec = sc + len(examples[\"answer_text\"][sample_idx])\n",
    "        s = 0\n",
    "        while s < len(offsets) and offsets[s][0] <= sc:\n",
    "            s += 1\n",
    "        starts.append(s - 1)\n",
    "        e = len(offsets) - 1\n",
    "        while e >= 0 and offsets[e][1] >= ec:\n",
    "            e -= 1\n",
    "        ends.append(e + 1)\n",
    "    tokenized[\"start_positions\"] = starts\n",
    "    tokenized[\"end_positions\"]   = ends\n",
    "    tokenized.pop(\"offset_mapping\")\n",
    "    return tokenized"
   ]
  },
  {
   "cell_type": "code",
   "execution_count": 7,
   "id": "9d6ef574-14d1-4479-af12-672296a52505",
   "metadata": {},
   "outputs": [
    {
     "data": {
      "application/vnd.jupyter.widget-view+json": {
       "model_id": "8766ef48d2304440a6a40a8da1252d86",
       "version_major": 2,
       "version_minor": 0
      },
      "text/plain": [
       "Map:   0%|          | 0/286 [00:00<?, ? examples/s]"
      ]
     },
     "metadata": {},
     "output_type": "display_data"
    },
    {
     "data": {
      "application/vnd.jupyter.widget-view+json": {
       "model_id": "d18a2deb6b614637b67dc1f0af02c41d",
       "version_major": 2,
       "version_minor": 0
      },
      "text/plain": [
       "Map:   0%|          | 0/65 [00:00<?, ? examples/s]"
      ]
     },
     "metadata": {},
     "output_type": "display_data"
    }
   ],
   "source": [
    "# 6) Tokenize train + filtered validation sets\n",
    "train_tok = train_ds.map(\n",
    "    prepare_features,\n",
    "    batched=True,\n",
    "    remove_columns=train_ds.column_names\n",
    ")\n",
    "val_tok = good_val_ds.map(\n",
    "    prepare_features,\n",
    "    batched=True,\n",
    "    remove_columns=good_val_ds.column_names\n",
    ")\n",
    "datasets = DatasetDict({\"train\": train_tok, \"validation\": val_tok})"
   ]
  },
  {
   "cell_type": "code",
   "execution_count": 8,
   "id": "25025f35-10a9-4715-9bd4-311b87048031",
   "metadata": {},
   "outputs": [],
   "source": [
    "# 7) Configure TrainingArguments (select by eval_loss)\n",
    "training_args = TrainingArguments(\n",
    "    output_dir=\"./lf_drop_bad\",\n",
    "    overwrite_output_dir=True,\n",
    "    eval_strategy=\"epoch\",\n",
    "    save_strategy=\"epoch\",\n",
    "    logging_strategy=\"steps\",\n",
    "    logging_steps=100,\n",
    "    per_device_train_batch_size=1,\n",
    "    per_device_eval_batch_size=1,\n",
    "    gradient_accumulation_steps=2,\n",
    "    fp16=True,\n",
    "    num_train_epochs=3,\n",
    "    learning_rate=3e-5,\n",
    "    weight_decay=0.01,\n",
    "    load_best_model_at_end=True,\n",
    "    metric_for_best_model=\"eval_loss\",\n",
    "    greater_is_better=False\n",
    ")\n"
   ]
  },
  {
   "cell_type": "code",
   "execution_count": null,
   "id": "1147ebeb-5a04-459a-9c27-23ecf14031cf",
   "metadata": {},
   "outputs": [
    {
     "name": "stderr",
     "output_type": "stream",
     "text": [
      "/tmp/ipykernel_1610/509380400.py:1: FutureWarning: `tokenizer` is deprecated and will be removed in version 5.0.0 for `Trainer.__init__`. Use `processing_class` instead.\n",
      "  trainer = Trainer(\n"
     ]
    },
    {
     "data": {
      "text/html": [
       "\n",
       "    <div>\n",
       "      \n",
       "      <progress value='325' max='429' style='width:300px; height:20px; vertical-align: middle;'></progress>\n",
       "      [325/429 08:40 < 02:47, 0.62 it/s, Epoch 2.27/3]\n",
       "    </div>\n",
       "    <table border=\"1\" class=\"dataframe\">\n",
       "  <thead>\n",
       " <tr style=\"text-align: left;\">\n",
       "      <th>Epoch</th>\n",
       "      <th>Training Loss</th>\n",
       "      <th>Validation Loss</th>\n",
       "    </tr>\n",
       "  </thead>\n",
       "  <tbody>\n",
       "    <tr>\n",
       "      <td>1</td>\n",
       "      <td>0.000000</td>\n",
       "      <td>nan</td>\n",
       "    </tr>\n",
       "    <tr>\n",
       "      <td>2</td>\n",
       "      <td>0.000000</td>\n",
       "      <td>nan</td>\n",
       "    </tr>\n",
       "  </tbody>\n",
       "</table><p>"
      ],
      "text/plain": [
       "<IPython.core.display.HTML object>"
      ]
     },
     "metadata": {},
     "output_type": "display_data"
    }
   ],
   "source": [
    "trainer = Trainer(\n",
    "    model=model,\n",
    "    args=training_args,\n",
    "    train_dataset=datasets[\"train\"],\n",
    "    eval_dataset=datasets[\"validation\"],\n",
    "    tokenizer=tokenizer\n",
    ")\n",
    "trainer.train()"
   ]
  },
  {
   "cell_type": "code",
   "execution_count": null,
   "id": "2fe14915-fe08-4e0c-bde1-f9793f25d2eb",
   "metadata": {},
   "outputs": [],
   "source": []
  }
 ],
 "metadata": {
  "kernelspec": {
   "display_name": "Python 3",
   "language": "python",
   "name": "python3"
  },
  "language_info": {
   "codemirror_mode": {
    "name": "ipython",
    "version": 3
   },
   "file_extension": ".py",
   "mimetype": "text/x-python",
   "name": "python",
   "nbconvert_exporter": "python",
   "pygments_lexer": "ipython3",
   "version": "3.10.10"
  }
 },
 "nbformat": 4,
 "nbformat_minor": 5
}
